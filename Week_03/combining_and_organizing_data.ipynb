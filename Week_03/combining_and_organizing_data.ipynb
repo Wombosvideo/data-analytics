{
 "cells": [
  {
   "cell_type": "markdown",
   "id": "d766870b",
   "metadata": {},
   "source": [
    "# Combining & organizing data"
   ]
  },
  {
   "cell_type": "markdown",
   "id": "56c4a43d",
   "metadata": {},
   "source": [
    "## Libraries and settings"
   ]
  },
  {
   "cell_type": "code",
   "execution_count": 1,
   "id": "06ae6c4d",
   "metadata": {},
   "outputs": [
    {
     "name": "stdout",
     "output_type": "stream",
     "text": [
      "/workspaces/data-analytics/Week_03\n"
     ]
    }
   ],
   "source": [
    "# Libraries\n",
    "import os\n",
    "import pandas as pd\n",
    "import numpy as np\n",
    "import fnmatch\n",
    "\n",
    "# Ignore warnings\n",
    "import warnings\n",
    "warnings.filterwarnings(\"ignore\")\n",
    "\n",
    "# Show current working directory\n",
    "print(os.getcwd())"
   ]
  },
  {
   "cell_type": "markdown",
   "id": "9043cb40",
   "metadata": {},
   "source": [
    "## Importing the prepared rental apartments data"
   ]
  },
  {
   "cell_type": "code",
   "execution_count": 2,
   "id": "0e0224b2",
   "metadata": {},
   "outputs": [
    {
     "ename": "FileNotFoundError",
     "evalue": "[Errno 2] No such file or directory: 'apartments_data_prepared.csv'",
     "output_type": "error",
     "traceback": [
      "\u001b[0;31m---------------------------------------------------------------------------\u001b[0m",
      "\u001b[0;31mFileNotFoundError\u001b[0m                         Traceback (most recent call last)",
      "\u001b[1;32m/workspaces/data-analytics/Week_03/combining_and_organizing_data.ipynb Cell 5\u001b[0m line \u001b[0;36m2\n\u001b[1;32m      <a href='vscode-notebook-cell://codespaces%2Bverbose-couscous-pwgj6w5wp73rqxj/workspaces/data-analytics/Week_03/combining_and_organizing_data.ipynb#W4sdnNjb2RlLXJlbW90ZQ%3D%3D?line=0'>1</a>\u001b[0m \u001b[39m# Read data to pandas data frame\u001b[39;00m\n\u001b[0;32m----> <a href='vscode-notebook-cell://codespaces%2Bverbose-couscous-pwgj6w5wp73rqxj/workspaces/data-analytics/Week_03/combining_and_organizing_data.ipynb#W4sdnNjb2RlLXJlbW90ZQ%3D%3D?line=1'>2</a>\u001b[0m df_orig \u001b[39m=\u001b[39m pd\u001b[39m.\u001b[39;49mread_csv(\u001b[39m'\u001b[39;49m\u001b[39mapartments_data_prepared.csv\u001b[39;49m\u001b[39m'\u001b[39;49m, \n\u001b[1;32m      <a href='vscode-notebook-cell://codespaces%2Bverbose-couscous-pwgj6w5wp73rqxj/workspaces/data-analytics/Week_03/combining_and_organizing_data.ipynb#W4sdnNjb2RlLXJlbW90ZQ%3D%3D?line=2'>3</a>\u001b[0m                       sep\u001b[39m=\u001b[39;49m\u001b[39m'\u001b[39;49m\u001b[39m,\u001b[39;49m\u001b[39m'\u001b[39;49m, \n\u001b[1;32m      <a href='vscode-notebook-cell://codespaces%2Bverbose-couscous-pwgj6w5wp73rqxj/workspaces/data-analytics/Week_03/combining_and_organizing_data.ipynb#W4sdnNjb2RlLXJlbW90ZQ%3D%3D?line=3'>4</a>\u001b[0m                       encoding\u001b[39m=\u001b[39;49m\u001b[39m'\u001b[39;49m\u001b[39mutf-8\u001b[39;49m\u001b[39m'\u001b[39;49m)\n\u001b[1;32m      <a href='vscode-notebook-cell://codespaces%2Bverbose-couscous-pwgj6w5wp73rqxj/workspaces/data-analytics/Week_03/combining_and_organizing_data.ipynb#W4sdnNjb2RlLXJlbW90ZQ%3D%3D?line=5'>6</a>\u001b[0m \u001b[39m# Copy of data with selected colums\u001b[39;00m\n\u001b[1;32m      <a href='vscode-notebook-cell://codespaces%2Bverbose-couscous-pwgj6w5wp73rqxj/workspaces/data-analytics/Week_03/combining_and_organizing_data.ipynb#W4sdnNjb2RlLXJlbW90ZQ%3D%3D?line=6'>7</a>\u001b[0m columns \u001b[39m=\u001b[39m [ \u001b[39m'\u001b[39m\u001b[39mweb-scraper-order\u001b[39m\u001b[39m'\u001b[39m, \n\u001b[1;32m      <a href='vscode-notebook-cell://codespaces%2Bverbose-couscous-pwgj6w5wp73rqxj/workspaces/data-analytics/Week_03/combining_and_organizing_data.ipynb#W4sdnNjb2RlLXJlbW90ZQ%3D%3D?line=7'>8</a>\u001b[0m             \u001b[39m'\u001b[39m\u001b[39maddress_raw\u001b[39m\u001b[39m'\u001b[39m,\n\u001b[1;32m      <a href='vscode-notebook-cell://codespaces%2Bverbose-couscous-pwgj6w5wp73rqxj/workspaces/data-analytics/Week_03/combining_and_organizing_data.ipynb#W4sdnNjb2RlLXJlbW90ZQ%3D%3D?line=8'>9</a>\u001b[0m             \u001b[39m'\u001b[39m\u001b[39mrooms\u001b[39m\u001b[39m'\u001b[39m, \n\u001b[0;32m   (...)\u001b[0m\n\u001b[1;32m     <a href='vscode-notebook-cell://codespaces%2Bverbose-couscous-pwgj6w5wp73rqxj/workspaces/data-analytics/Week_03/combining_and_organizing_data.ipynb#W4sdnNjb2RlLXJlbW90ZQ%3D%3D?line=11'>12</a>\u001b[0m             \u001b[39m'\u001b[39m\u001b[39mprice\u001b[39m\u001b[39m'\u001b[39m,\n\u001b[1;32m     <a href='vscode-notebook-cell://codespaces%2Bverbose-couscous-pwgj6w5wp73rqxj/workspaces/data-analytics/Week_03/combining_and_organizing_data.ipynb#W4sdnNjb2RlLXJlbW90ZQ%3D%3D?line=12'>13</a>\u001b[0m             \u001b[39m'\u001b[39m\u001b[39mprice_per_m2\u001b[39m\u001b[39m'\u001b[39m]\n",
      "File \u001b[0;32m~/.local/lib/python3.10/site-packages/pandas/io/parsers/readers.py:912\u001b[0m, in \u001b[0;36mread_csv\u001b[0;34m(filepath_or_buffer, sep, delimiter, header, names, index_col, usecols, dtype, engine, converters, true_values, false_values, skipinitialspace, skiprows, skipfooter, nrows, na_values, keep_default_na, na_filter, verbose, skip_blank_lines, parse_dates, infer_datetime_format, keep_date_col, date_parser, date_format, dayfirst, cache_dates, iterator, chunksize, compression, thousands, decimal, lineterminator, quotechar, quoting, doublequote, escapechar, comment, encoding, encoding_errors, dialect, on_bad_lines, delim_whitespace, low_memory, memory_map, float_precision, storage_options, dtype_backend)\u001b[0m\n\u001b[1;32m    899\u001b[0m kwds_defaults \u001b[39m=\u001b[39m _refine_defaults_read(\n\u001b[1;32m    900\u001b[0m     dialect,\n\u001b[1;32m    901\u001b[0m     delimiter,\n\u001b[0;32m   (...)\u001b[0m\n\u001b[1;32m    908\u001b[0m     dtype_backend\u001b[39m=\u001b[39mdtype_backend,\n\u001b[1;32m    909\u001b[0m )\n\u001b[1;32m    910\u001b[0m kwds\u001b[39m.\u001b[39mupdate(kwds_defaults)\n\u001b[0;32m--> 912\u001b[0m \u001b[39mreturn\u001b[39;00m _read(filepath_or_buffer, kwds)\n",
      "File \u001b[0;32m~/.local/lib/python3.10/site-packages/pandas/io/parsers/readers.py:577\u001b[0m, in \u001b[0;36m_read\u001b[0;34m(filepath_or_buffer, kwds)\u001b[0m\n\u001b[1;32m    574\u001b[0m _validate_names(kwds\u001b[39m.\u001b[39mget(\u001b[39m\"\u001b[39m\u001b[39mnames\u001b[39m\u001b[39m\"\u001b[39m, \u001b[39mNone\u001b[39;00m))\n\u001b[1;32m    576\u001b[0m \u001b[39m# Create the parser.\u001b[39;00m\n\u001b[0;32m--> 577\u001b[0m parser \u001b[39m=\u001b[39m TextFileReader(filepath_or_buffer, \u001b[39m*\u001b[39;49m\u001b[39m*\u001b[39;49mkwds)\n\u001b[1;32m    579\u001b[0m \u001b[39mif\u001b[39;00m chunksize \u001b[39mor\u001b[39;00m iterator:\n\u001b[1;32m    580\u001b[0m     \u001b[39mreturn\u001b[39;00m parser\n",
      "File \u001b[0;32m~/.local/lib/python3.10/site-packages/pandas/io/parsers/readers.py:1407\u001b[0m, in \u001b[0;36mTextFileReader.__init__\u001b[0;34m(self, f, engine, **kwds)\u001b[0m\n\u001b[1;32m   1404\u001b[0m     \u001b[39mself\u001b[39m\u001b[39m.\u001b[39moptions[\u001b[39m\"\u001b[39m\u001b[39mhas_index_names\u001b[39m\u001b[39m\"\u001b[39m] \u001b[39m=\u001b[39m kwds[\u001b[39m\"\u001b[39m\u001b[39mhas_index_names\u001b[39m\u001b[39m\"\u001b[39m]\n\u001b[1;32m   1406\u001b[0m \u001b[39mself\u001b[39m\u001b[39m.\u001b[39mhandles: IOHandles \u001b[39m|\u001b[39m \u001b[39mNone\u001b[39;00m \u001b[39m=\u001b[39m \u001b[39mNone\u001b[39;00m\n\u001b[0;32m-> 1407\u001b[0m \u001b[39mself\u001b[39m\u001b[39m.\u001b[39m_engine \u001b[39m=\u001b[39m \u001b[39mself\u001b[39;49m\u001b[39m.\u001b[39;49m_make_engine(f, \u001b[39mself\u001b[39;49m\u001b[39m.\u001b[39;49mengine)\n",
      "File \u001b[0;32m~/.local/lib/python3.10/site-packages/pandas/io/parsers/readers.py:1661\u001b[0m, in \u001b[0;36mTextFileReader._make_engine\u001b[0;34m(self, f, engine)\u001b[0m\n\u001b[1;32m   1659\u001b[0m     \u001b[39mif\u001b[39;00m \u001b[39m\"\u001b[39m\u001b[39mb\u001b[39m\u001b[39m\"\u001b[39m \u001b[39mnot\u001b[39;00m \u001b[39min\u001b[39;00m mode:\n\u001b[1;32m   1660\u001b[0m         mode \u001b[39m+\u001b[39m\u001b[39m=\u001b[39m \u001b[39m\"\u001b[39m\u001b[39mb\u001b[39m\u001b[39m\"\u001b[39m\n\u001b[0;32m-> 1661\u001b[0m \u001b[39mself\u001b[39m\u001b[39m.\u001b[39mhandles \u001b[39m=\u001b[39m get_handle(\n\u001b[1;32m   1662\u001b[0m     f,\n\u001b[1;32m   1663\u001b[0m     mode,\n\u001b[1;32m   1664\u001b[0m     encoding\u001b[39m=\u001b[39;49m\u001b[39mself\u001b[39;49m\u001b[39m.\u001b[39;49moptions\u001b[39m.\u001b[39;49mget(\u001b[39m\"\u001b[39;49m\u001b[39mencoding\u001b[39;49m\u001b[39m\"\u001b[39;49m, \u001b[39mNone\u001b[39;49;00m),\n\u001b[1;32m   1665\u001b[0m     compression\u001b[39m=\u001b[39;49m\u001b[39mself\u001b[39;49m\u001b[39m.\u001b[39;49moptions\u001b[39m.\u001b[39;49mget(\u001b[39m\"\u001b[39;49m\u001b[39mcompression\u001b[39;49m\u001b[39m\"\u001b[39;49m, \u001b[39mNone\u001b[39;49;00m),\n\u001b[1;32m   1666\u001b[0m     memory_map\u001b[39m=\u001b[39;49m\u001b[39mself\u001b[39;49m\u001b[39m.\u001b[39;49moptions\u001b[39m.\u001b[39;49mget(\u001b[39m\"\u001b[39;49m\u001b[39mmemory_map\u001b[39;49m\u001b[39m\"\u001b[39;49m, \u001b[39mFalse\u001b[39;49;00m),\n\u001b[1;32m   1667\u001b[0m     is_text\u001b[39m=\u001b[39;49mis_text,\n\u001b[1;32m   1668\u001b[0m     errors\u001b[39m=\u001b[39;49m\u001b[39mself\u001b[39;49m\u001b[39m.\u001b[39;49moptions\u001b[39m.\u001b[39;49mget(\u001b[39m\"\u001b[39;49m\u001b[39mencoding_errors\u001b[39;49m\u001b[39m\"\u001b[39;49m, \u001b[39m\"\u001b[39;49m\u001b[39mstrict\u001b[39;49m\u001b[39m\"\u001b[39;49m),\n\u001b[1;32m   1669\u001b[0m     storage_options\u001b[39m=\u001b[39;49m\u001b[39mself\u001b[39;49m\u001b[39m.\u001b[39;49moptions\u001b[39m.\u001b[39;49mget(\u001b[39m\"\u001b[39;49m\u001b[39mstorage_options\u001b[39;49m\u001b[39m\"\u001b[39;49m, \u001b[39mNone\u001b[39;49;00m),\n\u001b[1;32m   1670\u001b[0m )\n\u001b[1;32m   1671\u001b[0m \u001b[39massert\u001b[39;00m \u001b[39mself\u001b[39m\u001b[39m.\u001b[39mhandles \u001b[39mis\u001b[39;00m \u001b[39mnot\u001b[39;00m \u001b[39mNone\u001b[39;00m\n\u001b[1;32m   1672\u001b[0m f \u001b[39m=\u001b[39m \u001b[39mself\u001b[39m\u001b[39m.\u001b[39mhandles\u001b[39m.\u001b[39mhandle\n",
      "File \u001b[0;32m~/.local/lib/python3.10/site-packages/pandas/io/common.py:868\u001b[0m, in \u001b[0;36mget_handle\u001b[0;34m(path_or_buf, mode, encoding, compression, memory_map, is_text, errors, storage_options)\u001b[0m\n\u001b[1;32m    859\u001b[0m         handle \u001b[39m=\u001b[39m \u001b[39mopen\u001b[39m(\n\u001b[1;32m    860\u001b[0m             handle,\n\u001b[1;32m    861\u001b[0m             ioargs\u001b[39m.\u001b[39mmode,\n\u001b[0;32m   (...)\u001b[0m\n\u001b[1;32m    864\u001b[0m             newline\u001b[39m=\u001b[39m\u001b[39m\"\u001b[39m\u001b[39m\"\u001b[39m,\n\u001b[1;32m    865\u001b[0m         )\n\u001b[1;32m    866\u001b[0m     \u001b[39melse\u001b[39;00m:\n\u001b[1;32m    867\u001b[0m         \u001b[39m# Binary mode\u001b[39;00m\n\u001b[0;32m--> 868\u001b[0m         handle \u001b[39m=\u001b[39m \u001b[39mopen\u001b[39;49m(handle, ioargs\u001b[39m.\u001b[39;49mmode)\n\u001b[1;32m    869\u001b[0m     handles\u001b[39m.\u001b[39mappend(handle)\n\u001b[1;32m    871\u001b[0m \u001b[39m# Convert BytesIO or file objects passed with an encoding\u001b[39;00m\n",
      "\u001b[0;31mFileNotFoundError\u001b[0m: [Errno 2] No such file or directory: 'apartments_data_prepared.csv'"
     ]
    }
   ],
   "source": [
    "# Read data to pandas data frame\n",
    "df_orig = pd.read_csv('apartments_data_prepared.csv', \n",
    "                      sep=',', \n",
    "                      encoding='utf-8')\n",
    "\n",
    "# Copy of data with selected colums\n",
    "columns = [ 'web-scraper-order', \n",
    "            'address_raw',\n",
    "            'rooms', \n",
    "            'area', \n",
    "            'luxurious',\n",
    "            'price',\n",
    "            'price_per_m2']\n",
    "df = df_orig[columns]\n",
    "\n",
    "# Get number of rows and columns\n",
    "print(df.shape)\n",
    "\n",
    "# Show first records\n",
    "df.head(5)"
   ]
  },
  {
   "cell_type": "markdown",
   "id": "f2b3f8b2",
   "metadata": {},
   "source": [
    "## Combining data from different sources"
   ]
  },
  {
   "cell_type": "markdown",
   "id": "03022398",
   "metadata": {},
   "source": [
    "### Reading rental apartment data with geocoded addresses"
   ]
  },
  {
   "cell_type": "code",
   "execution_count": null,
   "id": "4e722a57",
   "metadata": {},
   "outputs": [],
   "source": [
    "# Meaning of variables\n",
    "# lat: geographical latitude\n",
    "# lon: geographical longitude\n",
    "# bfs_number: official municipality id\n",
    "# bfs_name: official municipality name\n",
    "\n",
    "# Geocoded data (i.e. data with latitude and longitude)\n",
    "df_geo = pd.read_csv('apartments_data_geocoded.csv', \n",
    "                     sep=',', \n",
    "                     encoding='utf-8')\n",
    "\n",
    "# Rename columns\n",
    "df_geo = df_geo.rename(columns={'web-scrape':'web-scraper-order',\n",
    "                                'address_ra':'address_raw',\n",
    "                                'BFS_NUMMER':'bfs_number', \n",
    "                                'NAME':'bfs_name'})\n",
    "\n",
    "# Show data\n",
    "df_geo[['web-scraper-order',\n",
    "        'address_raw',\n",
    "        'lat', \n",
    "        'lon', \n",
    "        'bfs_number', \n",
    "        'bfs_name']].head()"
   ]
  },
  {
   "cell_type": "markdown",
   "id": "79c2b637",
   "metadata": {},
   "source": [
    "### Join geo-information to rental apartment data using .merge()"
   ]
  },
  {
   "cell_type": "code",
   "execution_count": null,
   "id": "b2aeb277",
   "metadata": {},
   "outputs": [],
   "source": [
    "df2 = df.merge(df_geo[['web-scraper-order', \n",
    "                       'lat', \n",
    "                       'lon', \n",
    "                       'bfs_number', \n",
    "                       'bfs_name']], \n",
    "               on=\"web-scraper-order\")\n",
    "df2.head()"
   ]
  },
  {
   "cell_type": "markdown",
   "id": "ec21f353",
   "metadata": {},
   "source": [
    "### Reading municipality-level data"
   ]
  },
  {
   "cell_type": "code",
   "execution_count": null,
   "id": "f49be65f",
   "metadata": {},
   "outputs": [],
   "source": [
    "# Meaning of variables:\n",
    "# bfs_number: official municipality id\n",
    "# bfs_name: official municipality name\n",
    "# pop: number of residents (=population)\n",
    "# pop_dens: population density (pop per km2)\n",
    "# frg_pct: percentage foreigners\n",
    "# emp: numer of employees\n",
    "\n",
    "df_municip = pd.read_excel('municipality_data.xlsx', \n",
    "                           sheet_name='data_for_import')\n",
    "df_municip.head(5)"
   ]
  },
  {
   "cell_type": "markdown",
   "id": "c8600d9a",
   "metadata": {},
   "source": [
    "### Join municipality data to rental apartment data using .merge()"
   ]
  },
  {
   "cell_type": "code",
   "execution_count": null,
   "id": "b22f4607",
   "metadata": {},
   "outputs": [],
   "source": [
    "# Merge needs a key which must be identical in both data sets (here the key is 'bfs_number')\n",
    "df3 = df2.merge(df_municip[['bfs_number', \n",
    "                            'pop', \n",
    "                            'pop_dens', \n",
    "                            'frg_pct', \n",
    "                            'emp']], \n",
    "                on=\"bfs_number\")\n",
    "df3.head(5)"
   ]
  },
  {
   "cell_type": "markdown",
   "id": "5c201f19",
   "metadata": {},
   "source": [
    "### Export data to file"
   ]
  },
  {
   "cell_type": "code",
   "execution_count": null,
   "id": "d7ab8250",
   "metadata": {},
   "outputs": [],
   "source": [
    "# Remove missing values which may have ocured from the merging process\n",
    "df3 = df3.dropna()\n",
    "\n",
    "# Check for missing values per column\n",
    "print(df3.isna().sum())\n",
    "\n",
    "# Count number of rows and columns\n",
    "print(df3.shape)\n",
    "\n",
    "# Export apartment data to file\n",
    "df3.to_csv('apartments_data_enriched.csv',\n",
    "            sep=',',\n",
    "            encoding='utf-8')"
   ]
  },
  {
   "cell_type": "markdown",
   "id": "791c9563",
   "metadata": {},
   "source": [
    "### Sorting data"
   ]
  },
  {
   "cell_type": "code",
   "execution_count": null,
   "id": "dc4c9112",
   "metadata": {},
   "outputs": [],
   "source": [
    "# Sorting data by 'price' and 'area' with highest price above (ascending=False)\n",
    "df3.sort_values(by=['price', 'area'], \n",
    "                ascending=False).head()"
   ]
  },
  {
   "cell_type": "markdown",
   "id": "cd27e686",
   "metadata": {},
   "source": [
    "### Aggregation of data"
   ]
  },
  {
   "cell_type": "code",
   "execution_count": null,
   "id": "566135d2",
   "metadata": {},
   "outputs": [],
   "source": [
    "# Aggregation using .groupby()\n",
    "df3[['rooms', 'price']].groupby(['rooms']).mean()"
   ]
  },
  {
   "cell_type": "markdown",
   "id": "1aa577f9",
   "metadata": {},
   "source": [
    "## Reshaping data"
   ]
  },
  {
   "cell_type": "markdown",
   "id": "2f70bf89",
   "metadata": {},
   "source": [
    "### Reshaping data using .stack() and .unstack()"
   ]
  },
  {
   "cell_type": "code",
   "execution_count": null,
   "id": "74d80957",
   "metadata": {},
   "outputs": [],
   "source": [
    "df_sub = df3[['bfs_name', 'rooms', 'price', 'area']][:5]\n",
    "print('Original shape')\n",
    "print(df_sub, '\\n')\n",
    "\n",
    "df_sub_stacked = df_sub.stack()\n",
    "print('Stacked')\n",
    "print(df_sub_stacked, '\\n')\n",
    "\n",
    "# Using unstack\n",
    "print('Unstacked (= back to original shape)')\n",
    "print(df_sub_stacked.unstack())"
   ]
  },
  {
   "cell_type": "markdown",
   "id": "1db19bde",
   "metadata": {},
   "source": [
    "### Reshaping data using .melt()"
   ]
  },
  {
   "cell_type": "code",
   "execution_count": null,
   "id": "33533c97",
   "metadata": {},
   "outputs": [],
   "source": [
    "df_sub = df3[['rooms', 'price', 'area']][:5]\n",
    "print('Original shape')\n",
    "print(df_sub, '\\n')\n",
    "\n",
    "print('Reshaped using .melt()')\n",
    "print(pd.melt(df, id_vars=['rooms'], value_vars=['price', 'area']))"
   ]
  },
  {
   "cell_type": "markdown",
   "id": "c2991e66",
   "metadata": {},
   "source": [
    "### Pivoting data using .pivot_table()"
   ]
  },
  {
   "cell_type": "code",
   "execution_count": null,
   "id": "4ac34162",
   "metadata": {},
   "outputs": [],
   "source": [
    "# Using pivot_table to reshape the data and calculate means \n",
    "pd.pivot_table(df3[['rooms', 'price', 'area']],\n",
    "               index=['rooms'],\n",
    "               values=['price', 'area', 'rooms'],\n",
    "               aggfunc=(np.mean))"
   ]
  },
  {
   "cell_type": "markdown",
   "id": "9cec2fdf",
   "metadata": {},
   "source": [
    "### Jupyter notebook --footer info-- (please always provide this at the end of each submitted notebook)"
   ]
  },
  {
   "cell_type": "code",
   "execution_count": null,
   "id": "1ae752a7",
   "metadata": {},
   "outputs": [],
   "source": [
    "import os\n",
    "import platform\n",
    "import socket\n",
    "from platform import python_version\n",
    "from datetime import datetime\n",
    "\n",
    "print('-----------------------------------')\n",
    "print(os.name.upper())\n",
    "print(platform.system(), '|', platform.release())\n",
    "print('Datetime:', datetime.now().strftime(\"%Y-%m-%d %H:%M:%S\"))\n",
    "print('Python Version:', python_version())\n",
    "print('-----------------------------------')"
   ]
  }
 ],
 "metadata": {
  "kernelspec": {
   "display_name": "Python 3 (ipykernel)",
   "language": "python",
   "name": "python3"
  },
  "language_info": {
   "codemirror_mode": {
    "name": "ipython",
    "version": 3
   },
   "file_extension": ".py",
   "mimetype": "text/x-python",
   "name": "python",
   "nbconvert_exporter": "python",
   "pygments_lexer": "ipython3",
   "version": "3.10.13"
  }
 },
 "nbformat": 4,
 "nbformat_minor": 5
}
