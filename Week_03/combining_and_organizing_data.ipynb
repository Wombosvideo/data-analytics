{
 "cells": [
  {
   "cell_type": "markdown",
   "id": "d766870b",
   "metadata": {},
   "source": [
    "# Combining & organizing data"
   ]
  },
  {
   "cell_type": "markdown",
   "id": "56c4a43d",
   "metadata": {},
   "source": [
    "## Libraries and settings"
   ]
  },
  {
   "cell_type": "code",
   "execution_count": 3,
   "id": "06ae6c4d",
   "metadata": {},
   "outputs": [
    {
     "name": "stdout",
     "output_type": "stream",
     "text": [
      "/workspaces/data-analytics/Week_03\n"
     ]
    }
   ],
   "source": [
    "# Libraries\n",
    "import os\n",
    "import pandas as pd\n",
    "import numpy as np\n",
    "import fnmatch\n",
    "\n",
    "# Ignore warnings\n",
    "import warnings\n",
    "warnings.filterwarnings(\"ignore\")\n",
    "\n",
    "# Show current working directory\n",
    "print(os.getcwd())"
   ]
  },
  {
   "cell_type": "markdown",
   "id": "9043cb40",
   "metadata": {},
   "source": [
    "## Importing the prepared rental apartments data"
   ]
  },
  {
   "cell_type": "code",
   "execution_count": 4,
   "id": "0e0224b2",
   "metadata": {},
   "outputs": [
    {
     "ename": "KeyError",
     "evalue": "\"['rooms', 'area', 'luxurious', 'price', 'price_per_m2'] not in index\"",
     "output_type": "error",
     "traceback": [
      "\u001b[0;31m---------------------------------------------------------------------------\u001b[0m",
      "\u001b[0;31mKeyError\u001b[0m                                  Traceback (most recent call last)",
      "\u001b[1;32m/workspaces/data-analytics/Week_03/combining_and_organizing_data.ipynb Cell 5\u001b[0m line \u001b[0;36m1\n\u001b[1;32m      <a href='vscode-notebook-cell://codespaces%2Bverbose-couscous-pwgj6w5wp73rqxj/workspaces/data-analytics/Week_03/combining_and_organizing_data.ipynb#W4sdnNjb2RlLXJlbW90ZQ%3D%3D?line=5'>6</a>\u001b[0m \u001b[39m# Copy of data with selected colums\u001b[39;00m\n\u001b[1;32m      <a href='vscode-notebook-cell://codespaces%2Bverbose-couscous-pwgj6w5wp73rqxj/workspaces/data-analytics/Week_03/combining_and_organizing_data.ipynb#W4sdnNjb2RlLXJlbW90ZQ%3D%3D?line=6'>7</a>\u001b[0m columns \u001b[39m=\u001b[39m [ \u001b[39m'\u001b[39m\u001b[39mweb-scraper-order\u001b[39m\u001b[39m'\u001b[39m, \n\u001b[1;32m      <a href='vscode-notebook-cell://codespaces%2Bverbose-couscous-pwgj6w5wp73rqxj/workspaces/data-analytics/Week_03/combining_and_organizing_data.ipynb#W4sdnNjb2RlLXJlbW90ZQ%3D%3D?line=7'>8</a>\u001b[0m             \u001b[39m'\u001b[39m\u001b[39maddress_raw\u001b[39m\u001b[39m'\u001b[39m,\n\u001b[1;32m      <a href='vscode-notebook-cell://codespaces%2Bverbose-couscous-pwgj6w5wp73rqxj/workspaces/data-analytics/Week_03/combining_and_organizing_data.ipynb#W4sdnNjb2RlLXJlbW90ZQ%3D%3D?line=8'>9</a>\u001b[0m             \u001b[39m'\u001b[39m\u001b[39mrooms\u001b[39m\u001b[39m'\u001b[39m, \n\u001b[0;32m   (...)\u001b[0m\n\u001b[1;32m     <a href='vscode-notebook-cell://codespaces%2Bverbose-couscous-pwgj6w5wp73rqxj/workspaces/data-analytics/Week_03/combining_and_organizing_data.ipynb#W4sdnNjb2RlLXJlbW90ZQ%3D%3D?line=11'>12</a>\u001b[0m             \u001b[39m'\u001b[39m\u001b[39mprice\u001b[39m\u001b[39m'\u001b[39m,\n\u001b[1;32m     <a href='vscode-notebook-cell://codespaces%2Bverbose-couscous-pwgj6w5wp73rqxj/workspaces/data-analytics/Week_03/combining_and_organizing_data.ipynb#W4sdnNjb2RlLXJlbW90ZQ%3D%3D?line=12'>13</a>\u001b[0m             \u001b[39m'\u001b[39m\u001b[39mprice_per_m2\u001b[39m\u001b[39m'\u001b[39m]\n\u001b[0;32m---> <a href='vscode-notebook-cell://codespaces%2Bverbose-couscous-pwgj6w5wp73rqxj/workspaces/data-analytics/Week_03/combining_and_organizing_data.ipynb#W4sdnNjb2RlLXJlbW90ZQ%3D%3D?line=13'>14</a>\u001b[0m df \u001b[39m=\u001b[39m df_orig[columns]\n\u001b[1;32m     <a href='vscode-notebook-cell://codespaces%2Bverbose-couscous-pwgj6w5wp73rqxj/workspaces/data-analytics/Week_03/combining_and_organizing_data.ipynb#W4sdnNjb2RlLXJlbW90ZQ%3D%3D?line=15'>16</a>\u001b[0m \u001b[39m# Get number of rows and columns\u001b[39;00m\n\u001b[1;32m     <a href='vscode-notebook-cell://codespaces%2Bverbose-couscous-pwgj6w5wp73rqxj/workspaces/data-analytics/Week_03/combining_and_organizing_data.ipynb#W4sdnNjb2RlLXJlbW90ZQ%3D%3D?line=16'>17</a>\u001b[0m \u001b[39mprint\u001b[39m(df\u001b[39m.\u001b[39mshape)\n",
      "File \u001b[0;32m~/.local/lib/python3.10/site-packages/pandas/core/frame.py:3767\u001b[0m, in \u001b[0;36mDataFrame.__getitem__\u001b[0;34m(self, key)\u001b[0m\n\u001b[1;32m   3765\u001b[0m     \u001b[39mif\u001b[39;00m is_iterator(key):\n\u001b[1;32m   3766\u001b[0m         key \u001b[39m=\u001b[39m \u001b[39mlist\u001b[39m(key)\n\u001b[0;32m-> 3767\u001b[0m     indexer \u001b[39m=\u001b[39m \u001b[39mself\u001b[39;49m\u001b[39m.\u001b[39;49mcolumns\u001b[39m.\u001b[39;49m_get_indexer_strict(key, \u001b[39m\"\u001b[39;49m\u001b[39mcolumns\u001b[39;49m\u001b[39m\"\u001b[39;49m)[\u001b[39m1\u001b[39m]\n\u001b[1;32m   3769\u001b[0m \u001b[39m# take() does not accept boolean indexers\u001b[39;00m\n\u001b[1;32m   3770\u001b[0m \u001b[39mif\u001b[39;00m \u001b[39mgetattr\u001b[39m(indexer, \u001b[39m\"\u001b[39m\u001b[39mdtype\u001b[39m\u001b[39m\"\u001b[39m, \u001b[39mNone\u001b[39;00m) \u001b[39m==\u001b[39m \u001b[39mbool\u001b[39m:\n",
      "File \u001b[0;32m~/.local/lib/python3.10/site-packages/pandas/core/indexes/base.py:5877\u001b[0m, in \u001b[0;36mIndex._get_indexer_strict\u001b[0;34m(self, key, axis_name)\u001b[0m\n\u001b[1;32m   5874\u001b[0m \u001b[39melse\u001b[39;00m:\n\u001b[1;32m   5875\u001b[0m     keyarr, indexer, new_indexer \u001b[39m=\u001b[39m \u001b[39mself\u001b[39m\u001b[39m.\u001b[39m_reindex_non_unique(keyarr)\n\u001b[0;32m-> 5877\u001b[0m \u001b[39mself\u001b[39;49m\u001b[39m.\u001b[39;49m_raise_if_missing(keyarr, indexer, axis_name)\n\u001b[1;32m   5879\u001b[0m keyarr \u001b[39m=\u001b[39m \u001b[39mself\u001b[39m\u001b[39m.\u001b[39mtake(indexer)\n\u001b[1;32m   5880\u001b[0m \u001b[39mif\u001b[39;00m \u001b[39misinstance\u001b[39m(key, Index):\n\u001b[1;32m   5881\u001b[0m     \u001b[39m# GH 42790 - Preserve name from an Index\u001b[39;00m\n",
      "File \u001b[0;32m~/.local/lib/python3.10/site-packages/pandas/core/indexes/base.py:5941\u001b[0m, in \u001b[0;36mIndex._raise_if_missing\u001b[0;34m(self, key, indexer, axis_name)\u001b[0m\n\u001b[1;32m   5938\u001b[0m     \u001b[39mraise\u001b[39;00m \u001b[39mKeyError\u001b[39;00m(\u001b[39mf\u001b[39m\u001b[39m\"\u001b[39m\u001b[39mNone of [\u001b[39m\u001b[39m{\u001b[39;00mkey\u001b[39m}\u001b[39;00m\u001b[39m] are in the [\u001b[39m\u001b[39m{\u001b[39;00maxis_name\u001b[39m}\u001b[39;00m\u001b[39m]\u001b[39m\u001b[39m\"\u001b[39m)\n\u001b[1;32m   5940\u001b[0m not_found \u001b[39m=\u001b[39m \u001b[39mlist\u001b[39m(ensure_index(key)[missing_mask\u001b[39m.\u001b[39mnonzero()[\u001b[39m0\u001b[39m]]\u001b[39m.\u001b[39munique())\n\u001b[0;32m-> 5941\u001b[0m \u001b[39mraise\u001b[39;00m \u001b[39mKeyError\u001b[39;00m(\u001b[39mf\u001b[39m\u001b[39m\"\u001b[39m\u001b[39m{\u001b[39;00mnot_found\u001b[39m}\u001b[39;00m\u001b[39m not in index\u001b[39m\u001b[39m\"\u001b[39m)\n",
      "\u001b[0;31mKeyError\u001b[0m: \"['rooms', 'area', 'luxurious', 'price', 'price_per_m2'] not in index\""
     ]
    }
   ],
   "source": [
    "# Read data to pandas data frame\n",
    "df_orig = pd.read_csv('apartments_data_prepared.csv', \n",
    "                      sep=',', \n",
    "                      encoding='utf-8')\n",
    "\n",
    "# Copy of data with selected colums\n",
    "columns = [ 'web-scraper-order', \n",
    "            'address_raw',\n",
    "            'rooms', \n",
    "            'area', \n",
    "            'luxurious',\n",
    "            'price',\n",
    "            'price_per_m2']\n",
    "df = df_orig[columns]\n",
    "\n",
    "# Get number of rows and columns\n",
    "print(df.shape)\n",
    "\n",
    "# Show first records\n",
    "df.head(5)"
   ]
  },
  {
   "cell_type": "markdown",
   "id": "f2b3f8b2",
   "metadata": {},
   "source": [
    "## Combining data from different sources"
   ]
  },
  {
   "cell_type": "markdown",
   "id": "03022398",
   "metadata": {},
   "source": [
    "### Reading rental apartment data with geocoded addresses"
   ]
  },
  {
   "cell_type": "code",
   "execution_count": null,
   "id": "4e722a57",
   "metadata": {},
   "outputs": [],
   "source": [
    "# Meaning of variables\n",
    "# lat: geographical latitude\n",
    "# lon: geographical longitude\n",
    "# bfs_number: official municipality id\n",
    "# bfs_name: official municipality name\n",
    "\n",
    "# Geocoded data (i.e. data with latitude and longitude)\n",
    "df_geo = pd.read_csv('apartments_data_geocoded.csv', \n",
    "                     sep=',', \n",
    "                     encoding='utf-8')\n",
    "\n",
    "# Rename columns\n",
    "df_geo = df_geo.rename(columns={'web-scrape':'web-scraper-order',\n",
    "                                'address_ra':'address_raw',\n",
    "                                'BFS_NUMMER':'bfs_number', \n",
    "                                'NAME':'bfs_name'})\n",
    "\n",
    "# Show data\n",
    "df_geo[['web-scraper-order',\n",
    "        'address_raw',\n",
    "        'lat', \n",
    "        'lon', \n",
    "        'bfs_number', \n",
    "        'bfs_name']].head()"
   ]
  },
  {
   "cell_type": "markdown",
   "id": "79c2b637",
   "metadata": {},
   "source": [
    "### Join geo-information to rental apartment data using .merge()"
   ]
  },
  {
   "cell_type": "code",
   "execution_count": null,
   "id": "b2aeb277",
   "metadata": {},
   "outputs": [],
   "source": [
    "df2 = df.merge(df_geo[['web-scraper-order', \n",
    "                       'lat', \n",
    "                       'lon', \n",
    "                       'bfs_number', \n",
    "                       'bfs_name']], \n",
    "               on=\"web-scraper-order\")\n",
    "df2.head()"
   ]
  },
  {
   "cell_type": "markdown",
   "id": "ec21f353",
   "metadata": {},
   "source": [
    "### Reading municipality-level data"
   ]
  },
  {
   "cell_type": "code",
   "execution_count": null,
   "id": "f49be65f",
   "metadata": {},
   "outputs": [],
   "source": [
    "# Meaning of variables:\n",
    "# bfs_number: official municipality id\n",
    "# bfs_name: official municipality name\n",
    "# pop: number of residents (=population)\n",
    "# pop_dens: population density (pop per km2)\n",
    "# frg_pct: percentage foreigners\n",
    "# emp: numer of employees\n",
    "\n",
    "df_municip = pd.read_excel('municipality_data.xlsx', \n",
    "                           sheet_name='data_for_import')\n",
    "df_municip.head(5)"
   ]
  },
  {
   "cell_type": "markdown",
   "id": "c8600d9a",
   "metadata": {},
   "source": [
    "### Join municipality data to rental apartment data using .merge()"
   ]
  },
  {
   "cell_type": "code",
   "execution_count": null,
   "id": "b22f4607",
   "metadata": {},
   "outputs": [],
   "source": [
    "# Merge needs a key which must be identical in both data sets (here the key is 'bfs_number')\n",
    "df3 = df2.merge(df_municip[['bfs_number', \n",
    "                            'pop', \n",
    "                            'pop_dens', \n",
    "                            'frg_pct', \n",
    "                            'emp']], \n",
    "                on=\"bfs_number\")\n",
    "df3.head(5)"
   ]
  },
  {
   "cell_type": "markdown",
   "id": "5c201f19",
   "metadata": {},
   "source": [
    "### Export data to file"
   ]
  },
  {
   "cell_type": "code",
   "execution_count": null,
   "id": "d7ab8250",
   "metadata": {},
   "outputs": [],
   "source": [
    "# Remove missing values which may have ocured from the merging process\n",
    "df3 = df3.dropna()\n",
    "\n",
    "# Check for missing values per column\n",
    "print(df3.isna().sum())\n",
    "\n",
    "# Count number of rows and columns\n",
    "print(df3.shape)\n",
    "\n",
    "# Export apartment data to file\n",
    "df3.to_csv('apartments_data_enriched.csv',\n",
    "            sep=',',\n",
    "            encoding='utf-8')"
   ]
  },
  {
   "cell_type": "markdown",
   "id": "791c9563",
   "metadata": {},
   "source": [
    "### Sorting data"
   ]
  },
  {
   "cell_type": "code",
   "execution_count": null,
   "id": "dc4c9112",
   "metadata": {},
   "outputs": [],
   "source": [
    "# Sorting data by 'price' and 'area' with highest price above (ascending=False)\n",
    "df3.sort_values(by=['price', 'area'], \n",
    "                ascending=False).head()"
   ]
  },
  {
   "cell_type": "markdown",
   "id": "cd27e686",
   "metadata": {},
   "source": [
    "### Aggregation of data"
   ]
  },
  {
   "cell_type": "code",
   "execution_count": null,
   "id": "566135d2",
   "metadata": {},
   "outputs": [],
   "source": [
    "# Aggregation using .groupby()\n",
    "df3[['rooms', 'price']].groupby(['rooms']).mean()"
   ]
  },
  {
   "cell_type": "markdown",
   "id": "1aa577f9",
   "metadata": {},
   "source": [
    "## Reshaping data"
   ]
  },
  {
   "cell_type": "markdown",
   "id": "2f70bf89",
   "metadata": {},
   "source": [
    "### Reshaping data using .stack() and .unstack()"
   ]
  },
  {
   "cell_type": "code",
   "execution_count": null,
   "id": "74d80957",
   "metadata": {},
   "outputs": [],
   "source": [
    "df_sub = df3[['bfs_name', 'rooms', 'price', 'area']][:5]\n",
    "print('Original shape')\n",
    "print(df_sub, '\\n')\n",
    "\n",
    "df_sub_stacked = df_sub.stack()\n",
    "print('Stacked')\n",
    "print(df_sub_stacked, '\\n')\n",
    "\n",
    "# Using unstack\n",
    "print('Unstacked (= back to original shape)')\n",
    "print(df_sub_stacked.unstack())"
   ]
  },
  {
   "cell_type": "markdown",
   "id": "1db19bde",
   "metadata": {},
   "source": [
    "### Reshaping data using .melt()"
   ]
  },
  {
   "cell_type": "code",
   "execution_count": null,
   "id": "33533c97",
   "metadata": {},
   "outputs": [],
   "source": [
    "df_sub = df3[['rooms', 'price', 'area']][:5]\n",
    "print('Original shape')\n",
    "print(df_sub, '\\n')\n",
    "\n",
    "print('Reshaped using .melt()')\n",
    "print(pd.melt(df, id_vars=['rooms'], value_vars=['price', 'area']))"
   ]
  },
  {
   "cell_type": "markdown",
   "id": "c2991e66",
   "metadata": {},
   "source": [
    "### Pivoting data using .pivot_table()"
   ]
  },
  {
   "cell_type": "code",
   "execution_count": null,
   "id": "4ac34162",
   "metadata": {},
   "outputs": [],
   "source": [
    "# Using pivot_table to reshape the data and calculate means \n",
    "pd.pivot_table(df3[['rooms', 'price', 'area']],\n",
    "               index=['rooms'],\n",
    "               values=['price', 'area', 'rooms'],\n",
    "               aggfunc=(np.mean))"
   ]
  },
  {
   "cell_type": "markdown",
   "id": "9cec2fdf",
   "metadata": {},
   "source": [
    "### Jupyter notebook --footer info-- (please always provide this at the end of each submitted notebook)"
   ]
  },
  {
   "cell_type": "code",
   "execution_count": null,
   "id": "1ae752a7",
   "metadata": {},
   "outputs": [],
   "source": [
    "import os\n",
    "import platform\n",
    "import socket\n",
    "from platform import python_version\n",
    "from datetime import datetime\n",
    "\n",
    "print('-----------------------------------')\n",
    "print(os.name.upper())\n",
    "print(platform.system(), '|', platform.release())\n",
    "print('Datetime:', datetime.now().strftime(\"%Y-%m-%d %H:%M:%S\"))\n",
    "print('Python Version:', python_version())\n",
    "print('-----------------------------------')"
   ]
  }
 ],
 "metadata": {
  "kernelspec": {
   "display_name": "Python 3 (ipykernel)",
   "language": "python",
   "name": "python3"
  },
  "language_info": {
   "codemirror_mode": {
    "name": "ipython",
    "version": 3
   },
   "file_extension": ".py",
   "mimetype": "text/x-python",
   "name": "python",
   "nbconvert_exporter": "python",
   "pygments_lexer": "ipython3",
   "version": "3.10.13"
  }
 },
 "nbformat": 4,
 "nbformat_minor": 5
}
