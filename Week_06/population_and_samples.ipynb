{
 "cells": [
  {
   "cell_type": "markdown",
   "id": "51316a6b",
   "metadata": {},
   "source": [
    "# Population and samples in statistics"
   ]
  },
  {
   "cell_type": "markdown",
   "id": "8e6daf68",
   "metadata": {},
   "source": [
    "## Libraries and settings"
   ]
  },
  {
   "cell_type": "code",
   "execution_count": 79,
   "id": "b6fb404c",
   "metadata": {},
   "outputs": [
    {
     "name": "stdout",
     "output_type": "stream",
     "text": [
      "/workspaces/data-analytics/Week_06\n"
     ]
    }
   ],
   "source": [
    "# Libraries\n",
    "import os\n",
    "import pandas as pd\n",
    "import numpy as np\n",
    "import random\n",
    "import statistics\n",
    "import matplotlib.pyplot as plt\n",
    "from IPython.display import Image\n",
    "\n",
    "# Ignore warnings\n",
    "import warnings\n",
    "warnings.filterwarnings(\"ignore\")\n",
    "\n",
    "# Show current working directory\n",
    "print(os.getcwd())"
   ]
  },
  {
   "attachments": {},
   "cell_type": "markdown",
   "id": "fd9a8300",
   "metadata": {},
   "source": [
    "## Board Games\n",
    "\n",
    "This dataset was taken from [Kaggle](https://www.kaggle.com/datasets/sujaykapadnis/board-games)."
   ]
  },
  {
   "cell_type": "code",
   "execution_count": 80,
   "id": "3bb885dd",
   "metadata": {},
   "outputs": [
    {
     "data": {
      "text/html": [
       "<div>\n",
       "<style scoped>\n",
       "    .dataframe tbody tr th:only-of-type {\n",
       "        vertical-align: middle;\n",
       "    }\n",
       "\n",
       "    .dataframe tbody tr th {\n",
       "        vertical-align: top;\n",
       "    }\n",
       "\n",
       "    .dataframe thead th {\n",
       "        text-align: right;\n",
       "    }\n",
       "</style>\n",
       "<table border=\"1\" class=\"dataframe\">\n",
       "  <thead>\n",
       "    <tr style=\"text-align: right;\">\n",
       "      <th></th>\n",
       "      <th>game_id</th>\n",
       "      <th>description</th>\n",
       "      <th>image</th>\n",
       "      <th>max_players</th>\n",
       "      <th>max_playtime</th>\n",
       "      <th>min_age</th>\n",
       "      <th>min_players</th>\n",
       "      <th>min_playtime</th>\n",
       "      <th>name</th>\n",
       "      <th>playing_time</th>\n",
       "      <th>...</th>\n",
       "      <th>artist</th>\n",
       "      <th>category</th>\n",
       "      <th>compilation</th>\n",
       "      <th>designer</th>\n",
       "      <th>expansion</th>\n",
       "      <th>family</th>\n",
       "      <th>mechanic</th>\n",
       "      <th>publisher</th>\n",
       "      <th>average_rating</th>\n",
       "      <th>users_rated</th>\n",
       "    </tr>\n",
       "  </thead>\n",
       "  <tbody>\n",
       "    <tr>\n",
       "      <th>0</th>\n",
       "      <td>1</td>\n",
       "      <td>Die Macher is a game about seven sequential po...</td>\n",
       "      <td>//cf.geekdo-images.com/images/pic159509.jpg</td>\n",
       "      <td>5</td>\n",
       "      <td>240</td>\n",
       "      <td>14</td>\n",
       "      <td>3</td>\n",
       "      <td>240</td>\n",
       "      <td>Die Macher</td>\n",
       "      <td>240</td>\n",
       "      <td>...</td>\n",
       "      <td>Marcus Gschwendtner</td>\n",
       "      <td>Economic,Negotiation,Political</td>\n",
       "      <td>NaN</td>\n",
       "      <td>Karl-Heinz Schmiel</td>\n",
       "      <td>NaN</td>\n",
       "      <td>Country: Germany,Valley Games Classic Line</td>\n",
       "      <td>Area Control / Area Influence,Auction/Bidding,...</td>\n",
       "      <td>Hans im Glück Verlags-GmbH,Moskito Spiele,Vall...</td>\n",
       "      <td>7.66508</td>\n",
       "      <td>4498</td>\n",
       "    </tr>\n",
       "    <tr>\n",
       "      <th>1</th>\n",
       "      <td>2</td>\n",
       "      <td>Dragonmaster is a trick-taking card game based...</td>\n",
       "      <td>//cf.geekdo-images.com/images/pic184174.jpg</td>\n",
       "      <td>4</td>\n",
       "      <td>30</td>\n",
       "      <td>12</td>\n",
       "      <td>3</td>\n",
       "      <td>30</td>\n",
       "      <td>Dragonmaster</td>\n",
       "      <td>30</td>\n",
       "      <td>...</td>\n",
       "      <td>Bob Pepper</td>\n",
       "      <td>Card Game,Fantasy</td>\n",
       "      <td>NaN</td>\n",
       "      <td>G. W. \"Jerry\" D'Arcey</td>\n",
       "      <td>NaN</td>\n",
       "      <td>Animals: Dragons</td>\n",
       "      <td>Trick-taking</td>\n",
       "      <td>E.S. Lowe,Milton Bradley</td>\n",
       "      <td>6.60815</td>\n",
       "      <td>478</td>\n",
       "    </tr>\n",
       "    <tr>\n",
       "      <th>2</th>\n",
       "      <td>3</td>\n",
       "      <td>Part of the Knizia tile-laying trilogy, Samura...</td>\n",
       "      <td>//cf.geekdo-images.com/images/pic3211873.jpg</td>\n",
       "      <td>4</td>\n",
       "      <td>60</td>\n",
       "      <td>10</td>\n",
       "      <td>2</td>\n",
       "      <td>30</td>\n",
       "      <td>Samurai</td>\n",
       "      <td>60</td>\n",
       "      <td>...</td>\n",
       "      <td>Franz Vohwinkel</td>\n",
       "      <td>Abstract Strategy,Medieval</td>\n",
       "      <td>NaN</td>\n",
       "      <td>Reiner Knizia</td>\n",
       "      <td>NaN</td>\n",
       "      <td>Asian Theme,Country: Japan,Knizia tile-laying ...</td>\n",
       "      <td>Area Control / Area Influence,Hand Management,...</td>\n",
       "      <td>999 Games,ABACUSSPIELE,Astrel Games,Ceilikan J...</td>\n",
       "      <td>7.44119</td>\n",
       "      <td>12019</td>\n",
       "    </tr>\n",
       "    <tr>\n",
       "      <th>3</th>\n",
       "      <td>4</td>\n",
       "      <td>When you see the triangular box and the luxuri...</td>\n",
       "      <td>//cf.geekdo-images.com/images/pic285299.jpg</td>\n",
       "      <td>4</td>\n",
       "      <td>60</td>\n",
       "      <td>12</td>\n",
       "      <td>2</td>\n",
       "      <td>60</td>\n",
       "      <td>Tal der Könige</td>\n",
       "      <td>60</td>\n",
       "      <td>...</td>\n",
       "      <td>NaN</td>\n",
       "      <td>Ancient</td>\n",
       "      <td>NaN</td>\n",
       "      <td>Christian Beierer</td>\n",
       "      <td>NaN</td>\n",
       "      <td>Country: Egypt,Promotional Board Games</td>\n",
       "      <td>Action Point Allowance System,Area Control / A...</td>\n",
       "      <td>KOSMOS</td>\n",
       "      <td>6.60675</td>\n",
       "      <td>314</td>\n",
       "    </tr>\n",
       "    <tr>\n",
       "      <th>4</th>\n",
       "      <td>5</td>\n",
       "      <td>In Acquire, each player strategically invests ...</td>\n",
       "      <td>//cf.geekdo-images.com/images/pic342163.jpg</td>\n",
       "      <td>6</td>\n",
       "      <td>90</td>\n",
       "      <td>12</td>\n",
       "      <td>3</td>\n",
       "      <td>90</td>\n",
       "      <td>Acquire</td>\n",
       "      <td>90</td>\n",
       "      <td>...</td>\n",
       "      <td>Scott Okumura,Peter Whitley</td>\n",
       "      <td>Economic</td>\n",
       "      <td>NaN</td>\n",
       "      <td>Sid Sackson</td>\n",
       "      <td>NaN</td>\n",
       "      <td>3M Bookshelf Series</td>\n",
       "      <td>Hand Management,Stock Holding,Tile Placement</td>\n",
       "      <td>3M,Avalon Hill,Avalon Hill (Hasbro),Dujardin,G...</td>\n",
       "      <td>7.35830</td>\n",
       "      <td>15195</td>\n",
       "    </tr>\n",
       "  </tbody>\n",
       "</table>\n",
       "<p>5 rows × 22 columns</p>\n",
       "</div>"
      ],
      "text/plain": [
       "   game_id                                        description  \\\n",
       "0        1  Die Macher is a game about seven sequential po...   \n",
       "1        2  Dragonmaster is a trick-taking card game based...   \n",
       "2        3  Part of the Knizia tile-laying trilogy, Samura...   \n",
       "3        4  When you see the triangular box and the luxuri...   \n",
       "4        5  In Acquire, each player strategically invests ...   \n",
       "\n",
       "                                          image  max_players  max_playtime  \\\n",
       "0   //cf.geekdo-images.com/images/pic159509.jpg            5           240   \n",
       "1   //cf.geekdo-images.com/images/pic184174.jpg            4            30   \n",
       "2  //cf.geekdo-images.com/images/pic3211873.jpg            4            60   \n",
       "3   //cf.geekdo-images.com/images/pic285299.jpg            4            60   \n",
       "4   //cf.geekdo-images.com/images/pic342163.jpg            6            90   \n",
       "\n",
       "   min_age  min_players  min_playtime            name  playing_time  ...  \\\n",
       "0       14            3           240      Die Macher           240  ...   \n",
       "1       12            3            30    Dragonmaster            30  ...   \n",
       "2       10            2            30         Samurai            60  ...   \n",
       "3       12            2            60  Tal der Könige            60  ...   \n",
       "4       12            3            90         Acquire            90  ...   \n",
       "\n",
       "                        artist                        category compilation  \\\n",
       "0          Marcus Gschwendtner  Economic,Negotiation,Political         NaN   \n",
       "1                   Bob Pepper               Card Game,Fantasy         NaN   \n",
       "2              Franz Vohwinkel      Abstract Strategy,Medieval         NaN   \n",
       "3                          NaN                         Ancient         NaN   \n",
       "4  Scott Okumura,Peter Whitley                        Economic         NaN   \n",
       "\n",
       "                designer expansion  \\\n",
       "0     Karl-Heinz Schmiel       NaN   \n",
       "1  G. W. \"Jerry\" D'Arcey       NaN   \n",
       "2          Reiner Knizia       NaN   \n",
       "3      Christian Beierer       NaN   \n",
       "4            Sid Sackson       NaN   \n",
       "\n",
       "                                              family  \\\n",
       "0         Country: Germany,Valley Games Classic Line   \n",
       "1                                   Animals: Dragons   \n",
       "2  Asian Theme,Country: Japan,Knizia tile-laying ...   \n",
       "3             Country: Egypt,Promotional Board Games   \n",
       "4                                3M Bookshelf Series   \n",
       "\n",
       "                                            mechanic  \\\n",
       "0  Area Control / Area Influence,Auction/Bidding,...   \n",
       "1                                       Trick-taking   \n",
       "2  Area Control / Area Influence,Hand Management,...   \n",
       "3  Action Point Allowance System,Area Control / A...   \n",
       "4       Hand Management,Stock Holding,Tile Placement   \n",
       "\n",
       "                                           publisher average_rating  \\\n",
       "0  Hans im Glück Verlags-GmbH,Moskito Spiele,Vall...        7.66508   \n",
       "1                           E.S. Lowe,Milton Bradley        6.60815   \n",
       "2  999 Games,ABACUSSPIELE,Astrel Games,Ceilikan J...        7.44119   \n",
       "3                                             KOSMOS        6.60675   \n",
       "4  3M,Avalon Hill,Avalon Hill (Hasbro),Dujardin,G...        7.35830   \n",
       "\n",
       "  users_rated  \n",
       "0        4498  \n",
       "1         478  \n",
       "2       12019  \n",
       "3         314  \n",
       "4       15195  \n",
       "\n",
       "[5 rows x 22 columns]"
      ]
     },
     "execution_count": 80,
     "metadata": {},
     "output_type": "execute_result"
    }
   ],
   "source": [
    "df = pd.read_csv('board_games.csv', sep=',', encoding='utf-8')\n",
    "df.head()"
   ]
  },
  {
   "cell_type": "code",
   "execution_count": 81,
   "id": "23773c12",
   "metadata": {},
   "outputs": [
    {
     "data": {
      "image/png": "[encoded data removed]",
      "text/plain": [
       "<Figure size 640x480 with 1 Axes>"
      ]
     },
     "metadata": {},
     "output_type": "display_data"
    }
   ],
   "source": [
    "# Setting a seed to restore the random numbers later\n",
    "random.seed(42)\n",
    "\n",
    "# Get average_rating column from the dataframe\n",
    "pop = df['average_rating']\n",
    "\n",
    "# Plot histogram based on the data\n",
    "plt.hist(pop, bins = 50, color='gold')\n",
    "plt.title('Average rating of board games')\n",
    "plt.xlabel('Average rating (1-10)')\n",
    "plt.ylabel('Number of ratings')\n",
    "plt.xlim(xmin=1, xmax=10)\n",
    "\n",
    "plt.show()"
   ]
  },
  {
   "cell_type": "markdown",
   "id": "b6501407",
   "metadata": {},
   "source": [
    "## Single random sample from the population"
   ]
  },
  {
   "cell_type": "code",
   "execution_count": 82,
   "id": "1fa9026f",
   "metadata": {},
   "outputs": [
    {
     "name": "stdout",
     "output_type": "stream",
     "text": [
      "Mean: 6.4112\n",
      "Standard deviation: 0.8391\n"
     ]
    },
    {
     "data": {
      "image/png": "[encoded data removed]",
      "text/plain": [
       "<Figure size 640x480 with 1 Axes>"
      ]
     },
     "metadata": {},
     "output_type": "display_data"
    }
   ],
   "source": [
    "# Sample size\n",
    "sample_size = 200\n",
    "\n",
    "# Setting a seed to restore the random numbers later\n",
    "random.seed(42)\n",
    "\n",
    "# Random sample\n",
    "random_sample = random.sample(list(pop), sample_size)\n",
    "\n",
    "# Statistics of the sample\n",
    "print(f'Mean: {statistics.mean(random_sample):.4f}')\n",
    "print(f'Standard deviation: {statistics.stdev(random_sample):.4f}')\n",
    "\n",
    "# Plot histogram based on the sample\n",
    "plt.hist(random_sample, bins = 50, color='deepskyblue')\n",
    "plt.title(f'Average rating of board games (single sample with n={sample_size})', fontsize=10)\n",
    "plt.xlabel('Average rating (1-10)')\n",
    "plt.ylabel('Number of ratings')\n",
    "plt.xlim(xmin=1, xmax=10)\n",
    "\n",
    "plt.show()"
   ]
  },
  {
   "cell_type": "markdown",
   "id": "a22d0680",
   "metadata": {},
   "source": [
    "## Repeated random sampling 'with replacement' (bootstrapping)"
   ]
  },
  {
   "cell_type": "code",
   "execution_count": 83,
   "id": "3b6decdb",
   "metadata": {},
   "outputs": [
    {
     "name": "stdout",
     "output_type": "stream",
     "text": [
      "179.8763\n",
      "24.9497\n"
     ]
    },
    {
     "data": {
      "image/png": "[encoded data removed]",
      "text/plain": [
       "<Figure size 640x480 with 1 Axes>"
      ]
     },
     "metadata": {},
     "output_type": "display_data"
    }
   ],
   "source": [
    "def bootstrap(p_mean= 2800, p_std= 240, num_iter = 5000, sample_size = 200):\n",
    "    \"\"\"\n",
    "    Creates bootstrap sample from a distribution.\n",
    "\n",
    "    :param p_mean population mean. Type = int, float\n",
    "    :param p_std. Type = int, float\n",
    "    :param p_n. Type = int, float\n",
    "    :param num_iterations: number of iterations. Type = int\n",
    "    :param sample_size: size of single bootstrap sample. Type = int\n",
    "    :return: plot of bootstrap sample.\n",
    "    \"\"\"\n",
    "\n",
    "    # Setting a seed to restore the random numbers later\n",
    "    random.seed(42)\n",
    "\n",
    "    # Generate (normally distributed) data\n",
    "    pop = np.random.normal(loc=p_mean, scale=p_std, size=p_n)\n",
    "\n",
    "    # Create empty lists to save results of iterations\n",
    "    sample_mean = []\n",
    "    sample_std  = []\n",
    "\n",
    "    # Loop for iterations\n",
    "    for i in range(num_iter):\n",
    "        samp = random.sample(pop.tolist(), sample_size)\n",
    "        avg = np.mean(samp)\n",
    "        std = np.std(samp)\n",
    "        sample_mean.append(avg)\n",
    "        sample_std.append(std)\n",
    "\n",
    "    # Print mean and sd of bootsstapped distribution\n",
    "    print(f'{np.mean(sample_mean):.4f}')\n",
    "    print(f'{np.mean(sample_std):.4f}')\n",
    "\n",
    "    # Plot histogram based on the bootstrapped data\n",
    "    plt.hist(sample_mean, bins = 50, color='mediumorchid')\n",
    "    plt.title('Average rating of board games (bootstrap sample)', fontsize=10)\n",
    "    plt.xlabel('Average rating (1-10)')\n",
    "    plt.ylabel('Number of ratings')\n",
    "    plt.show()\n",
    "\n",
    "# Function call\n",
    "bootstrap(p_mean=180, p_std=25, num_iter = 1000, sample_size = 1000)\n"
   ]
  },
  {
   "attachments": {},
   "cell_type": "markdown",
   "id": "b077fdb7",
   "metadata": {},
   "source": [
    "### Jupyter notebook --footer info-- (please always provide this at the end of each notebook)"
   ]
  },
  {
   "cell_type": "code",
   "execution_count": 84,
   "id": "f41ef994",
   "metadata": {},
   "outputs": [
    {
     "name": "stdout",
     "output_type": "stream",
     "text": [
      "-----------------------------------\n",
      "POSIX\n",
      "Linux | 6.2.0-1015-azure\n",
      "Datetime: 2023-10-27 12:33:40\n",
      "Python Version: 3.10.13\n",
      "-----------------------------------\n"
     ]
    }
   ],
   "source": [
    "import os\n",
    "import platform\n",
    "import socket\n",
    "from platform import python_version\n",
    "from datetime import datetime\n",
    "\n",
    "print('-----------------------------------')\n",
    "print(os.name.upper())\n",
    "print(platform.system(), '|', platform.release())\n",
    "print('Datetime:', datetime.now().strftime(\"%Y-%m-%d %H:%M:%S\"))\n",
    "print('Python Version:', python_version())\n",
    "print('-----------------------------------')"
   ]
  }
 ],
 "metadata": {
  "kernelspec": {
   "display_name": "spenv",
   "language": "python",
   "name": "python3"
  },
  "language_info": {
   "codemirror_mode": {
    "name": "ipython",
    "version": 3
   },
   "file_extension": ".py",
   "mimetype": "text/x-python",
   "name": "python",
   "nbconvert_exporter": "python",
   "pygments_lexer": "ipython3",
   "version": "3.10.13"
  },
  "vscode": {
   "interpreter": {
    "hash": "e88d0147854d95637bfda66d71c1971db493e0eba7c923c8e835cc4382a02720"
   }
  }
 },
 "nbformat": 4,
 "nbformat_minor": 5
}
