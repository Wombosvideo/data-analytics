{
 "cells": [
  {
   "cell_type": "markdown",
   "id": "spectacular-oxford",
   "metadata": {},
   "source": [
    "# Writing data to and reading data from a Database using Python"
   ]
  },
  {
   "cell_type": "markdown",
   "id": "14d7fbf5",
   "metadata": {},
   "source": [
    "## Libraries and settings"
   ]
  },
  {
   "cell_type": "code",
   "execution_count": null,
   "id": "6b7c9af0",
   "metadata": {},
   "outputs": [],
   "source": [
    "# Libraries\n",
    "import os\n",
    "import sqlite3\n",
    "import fnmatch\n",
    "import numpy as np\n",
    "import pandas as pd\n",
    "import matplotlib.pyplot as plt\n",
    "\n",
    "# Ignore warnings\n",
    "import warnings\n",
    "warnings.filterwarnings(\"ignore\")\n",
    "\n",
    "# Function to close a sqlite db-connection\n",
    "def check_conn(conn):\n",
    "     try:\n",
    "        conn.cursor()\n",
    "        return True\n",
    "     except Exception as ex:\n",
    "        return False\n",
    "\n",
    "# Get current working directory\n",
    "print(os.getcwd())"
   ]
  },
  {
   "cell_type": "markdown",
   "id": "0b880d4d",
   "metadata": {},
   "source": [
    "## Create sqlite data base"
   ]
  },
  {
   "cell_type": "code",
   "execution_count": null,
   "id": "240f7517",
   "metadata": {},
   "outputs": [],
   "source": [
    "# Create data base\n",
    "conn = sqlite3.connect('apartment_database.db') \n",
    "cursor = conn.cursor()\n",
    "\n",
    "# Show dbs in the directory\n",
    "flist = fnmatch.filter(os.listdir('.'), '*.db')\n",
    "for i in flist:\n",
    "    print(i)"
   ]
  },
  {
   "cell_type": "markdown",
   "id": "aff97772",
   "metadata": {},
   "source": [
    "## Create SQL-table in the database"
   ]
  },
  {
   "cell_type": "code",
   "execution_count": null,
   "id": "a3d83cba",
   "metadata": {},
   "outputs": [],
   "source": [
    "cursor.execute('''CREATE TABLE IF NOT EXISTS apartments_table (OrderId VARCHAR(50),\n",
    "                                                               Adress VARCHAR(200),\n",
    "                                                               Rooms DECIMAL(8,2),\n",
    "                                                               Area INT(8),\n",
    "                                                               Price DECIMAL(8,2))''')\n",
    "# Confirm changes to the table\n",
    "conn.commit()"
   ]
  },
  {
   "cell_type": "markdown",
   "id": "a87c8dee",
   "metadata": {},
   "source": [
    "## Read data from file to data frame"
   ]
  },
  {
   "cell_type": "code",
   "execution_count": null,
   "id": "34300bd6",
   "metadata": {},
   "outputs": [],
   "source": [
    "df = pd.read_csv('apartments_data_prepared.csv', \n",
    "                  sep=',', \n",
    "                  encoding='utf-8')[['web-scraper-order', 'address_raw', 'rooms', 'area', 'price']]\n",
    "print(df.shape)\n",
    "df.head(5)"
   ]
  },
  {
   "cell_type": "markdown",
   "id": "ef970dfe",
   "metadata": {},
   "source": [
    "## Write data to the SQL-table in data base"
   ]
  },
  {
   "cell_type": "code",
   "execution_count": null,
   "id": "1c728ac7",
   "metadata": {},
   "outputs": [],
   "source": [
    "df.to_sql(name = 'apartments_table',\n",
    "          con = conn,\n",
    "          index = False,\n",
    "          if_exists = 'replace')"
   ]
  },
  {
   "cell_type": "markdown",
   "id": "43c2ef9f",
   "metadata": {},
   "source": [
    "## Query the SQL-table"
   ]
  },
  {
   "cell_type": "code",
   "execution_count": null,
   "id": "48dcc02c",
   "metadata": {},
   "outputs": [],
   "source": [
    "# Query the SQL-table\n",
    "cursor.execute('''SELECT *\n",
    "               FROM apartments_table\n",
    "               WHERE rooms >=1''')\n",
    "\n",
    "df = pd.DataFrame(cursor.fetchall(), \n",
    "                  columns=['OrderId','Address','Rooms','Area','Price'])    \n",
    "df"
   ]
  },
  {
   "cell_type": "markdown",
   "id": "6069dba4",
   "metadata": {},
   "source": [
    "## Additional SQL-queries"
   ]
  },
  {
   "cell_type": "code",
   "execution_count": 40,
   "id": "53c24cdb",
   "metadata": {},
   "outputs": [
    {
     "data": {
      "text/html": [
       "<div>\n",
       "<style scoped>\n",
       "    .dataframe tbody tr th:only-of-type {\n",
       "        vertical-align: middle;\n",
       "    }\n",
       "\n",
       "    .dataframe tbody tr th {\n",
       "        vertical-align: top;\n",
       "    }\n",
       "\n",
       "    .dataframe thead th {\n",
       "        text-align: right;\n",
       "    }\n",
       "</style>\n",
       "<table border=\"1\" class=\"dataframe\">\n",
       "  <thead>\n",
       "    <tr style=\"text-align: right;\">\n",
       "      <th></th>\n",
       "      <th>OrderId</th>\n",
       "      <th>Address</th>\n",
       "      <th>Rooms</th>\n",
       "      <th>Area</th>\n",
       "      <th>Price</th>\n",
       "    </tr>\n",
       "  </thead>\n",
       "  <tbody>\n",
       "    <tr>\n",
       "      <th>0</th>\n",
       "      <td>1693998205-26</td>\n",
       "      <td>Frowiesstrasse 36, 8344 Bäretswil, ZH</td>\n",
       "      <td>5.5</td>\n",
       "      <td>140.0</td>\n",
       "      <td>2750.0</td>\n",
       "    </tr>\n",
       "    <tr>\n",
       "      <th>1</th>\n",
       "      <td>1693998205-27</td>\n",
       "      <td>Kanzleistrasse 15, 8418 Schlatt ZH, ZH</td>\n",
       "      <td>4.5</td>\n",
       "      <td>104.0</td>\n",
       "      <td>2700.0</td>\n",
       "    </tr>\n",
       "    <tr>\n",
       "      <th>2</th>\n",
       "      <td>1693998205-29</td>\n",
       "      <td>Bolletweg 14, 8934 Knonau, ZH</td>\n",
       "      <td>5.5</td>\n",
       "      <td>150.0</td>\n",
       "      <td>3390.0</td>\n",
       "    </tr>\n",
       "    <tr>\n",
       "      <th>3</th>\n",
       "      <td>1693998205-31</td>\n",
       "      <td>Adlergass 6, 8805 Richterswil, ZH</td>\n",
       "      <td>5.5</td>\n",
       "      <td>165.0</td>\n",
       "      <td>NaN</td>\n",
       "    </tr>\n",
       "    <tr>\n",
       "      <th>4</th>\n",
       "      <td>1693998205-33</td>\n",
       "      <td>Haldenstrasse 67, 8602 Wangen b. Dübendorf, ZH</td>\n",
       "      <td>4.5</td>\n",
       "      <td>118.0</td>\n",
       "      <td>3390.0</td>\n",
       "    </tr>\n",
       "    <tr>\n",
       "      <th>...</th>\n",
       "      <td>...</td>\n",
       "      <td>...</td>\n",
       "      <td>...</td>\n",
       "      <td>...</td>\n",
       "      <td>...</td>\n",
       "    </tr>\n",
       "    <tr>\n",
       "      <th>234</th>\n",
       "      <td>1693998381-998</td>\n",
       "      <td>Tösstalstrasse 12, 8492 Wila, ZH</td>\n",
       "      <td>4.5</td>\n",
       "      <td>109.0</td>\n",
       "      <td>1980.0</td>\n",
       "    </tr>\n",
       "    <tr>\n",
       "      <th>235</th>\n",
       "      <td>1693998381-999</td>\n",
       "      <td>Murzlenstrasse 66, 8166 Niederweningen, ZH</td>\n",
       "      <td>4.5</td>\n",
       "      <td>111.0</td>\n",
       "      <td>2700.0</td>\n",
       "    </tr>\n",
       "    <tr>\n",
       "      <th>236</th>\n",
       "      <td>1693998381-1001</td>\n",
       "      <td>Murzlenstrasse 66, 8166 Niederweningen, ZH</td>\n",
       "      <td>4.5</td>\n",
       "      <td>111.0</td>\n",
       "      <td>2800.0</td>\n",
       "    </tr>\n",
       "    <tr>\n",
       "      <th>237</th>\n",
       "      <td>1693998381-1006</td>\n",
       "      <td>Holzmoosrütisteig 2b, 8820 Wädenswil, ZH</td>\n",
       "      <td>4.5</td>\n",
       "      <td>110.0</td>\n",
       "      <td>3500.0</td>\n",
       "    </tr>\n",
       "    <tr>\n",
       "      <th>238</th>\n",
       "      <td>1693998381-1008</td>\n",
       "      <td>Maneggstrasse 83, 8041 Zürich, ZH</td>\n",
       "      <td>4.5</td>\n",
       "      <td>114.0</td>\n",
       "      <td>3262.0</td>\n",
       "    </tr>\n",
       "  </tbody>\n",
       "</table>\n",
       "<p>239 rows × 5 columns</p>\n",
       "</div>"
      ],
      "text/plain": [
       "             OrderId                                         Address  Rooms  \\\n",
       "0      1693998205-26           Frowiesstrasse 36, 8344 Bäretswil, ZH    5.5   \n",
       "1      1693998205-27          Kanzleistrasse 15, 8418 Schlatt ZH, ZH    4.5   \n",
       "2      1693998205-29                   Bolletweg 14, 8934 Knonau, ZH    5.5   \n",
       "3      1693998205-31               Adlergass 6, 8805 Richterswil, ZH    5.5   \n",
       "4      1693998205-33  Haldenstrasse 67, 8602 Wangen b. Dübendorf, ZH    4.5   \n",
       "..               ...                                             ...    ...   \n",
       "234   1693998381-998                Tösstalstrasse 12, 8492 Wila, ZH    4.5   \n",
       "235   1693998381-999      Murzlenstrasse 66, 8166 Niederweningen, ZH    4.5   \n",
       "236  1693998381-1001      Murzlenstrasse 66, 8166 Niederweningen, ZH    4.5   \n",
       "237  1693998381-1006        Holzmoosrütisteig 2b, 8820 Wädenswil, ZH    4.5   \n",
       "238  1693998381-1008               Maneggstrasse 83, 8041 Zürich, ZH    4.5   \n",
       "\n",
       "      Area   Price  \n",
       "0    140.0  2750.0  \n",
       "1    104.0  2700.0  \n",
       "2    150.0  3390.0  \n",
       "3    165.0     NaN  \n",
       "4    118.0  3390.0  \n",
       "..     ...     ...  \n",
       "234  109.0  1980.0  \n",
       "235  111.0  2700.0  \n",
       "236  111.0  2800.0  \n",
       "237  110.0  3500.0  \n",
       "238  114.0  3262.0  \n",
       "\n",
       "[239 rows x 5 columns]"
      ]
     },
     "execution_count": 40,
     "metadata": {},
     "output_type": "execute_result"
    }
   ],
   "source": [
    "cursor.execute('''SELECT *\n",
    "               FROM apartments_table\n",
    "               WHERE rooms >=4 AND area >= 100''')\n",
    "\n",
    "df_r4_a100 = pd.DataFrame(cursor.fetchall(), \n",
    "                  columns=['OrderId','Address','Rooms','Area','Price'])    \n",
    "df_r4_a100"
   ]
  },
  {
   "cell_type": "code",
   "execution_count": 41,
   "id": "882f6a3e",
   "metadata": {},
   "outputs": [
    {
     "data": {
      "text/html": [
       "<div>\n",
       "<style scoped>\n",
       "    .dataframe tbody tr th:only-of-type {\n",
       "        vertical-align: middle;\n",
       "    }\n",
       "\n",
       "    .dataframe tbody tr th {\n",
       "        vertical-align: top;\n",
       "    }\n",
       "\n",
       "    .dataframe thead th {\n",
       "        text-align: right;\n",
       "    }\n",
       "</style>\n",
       "<table border=\"1\" class=\"dataframe\">\n",
       "  <thead>\n",
       "    <tr style=\"text-align: right;\">\n",
       "      <th></th>\n",
       "      <th>Avg. Room Size</th>\n",
       "      <th>Avg. Price</th>\n",
       "    </tr>\n",
       "  </thead>\n",
       "  <tbody>\n",
       "    <tr>\n",
       "      <th>0</th>\n",
       "      <td>NaN</td>\n",
       "      <td>NaN</td>\n",
       "    </tr>\n",
       "    <tr>\n",
       "      <th>1</th>\n",
       "      <td>23.000000</td>\n",
       "      <td>56.100499</td>\n",
       "    </tr>\n",
       "    <tr>\n",
       "      <th>2</th>\n",
       "      <td>17.333333</td>\n",
       "      <td>117.485689</td>\n",
       "    </tr>\n",
       "    <tr>\n",
       "      <th>3</th>\n",
       "      <td>27.000000</td>\n",
       "      <td>79.013889</td>\n",
       "    </tr>\n",
       "    <tr>\n",
       "      <th>4</th>\n",
       "      <td>31.200000</td>\n",
       "      <td>78.554725</td>\n",
       "    </tr>\n",
       "    <tr>\n",
       "      <th>5</th>\n",
       "      <td>16.333333</td>\n",
       "      <td>129.307216</td>\n",
       "    </tr>\n",
       "    <tr>\n",
       "      <th>6</th>\n",
       "      <td>18.571429</td>\n",
       "      <td>142.335360</td>\n",
       "    </tr>\n",
       "    <tr>\n",
       "      <th>7</th>\n",
       "      <td>NaN</td>\n",
       "      <td>NaN</td>\n",
       "    </tr>\n",
       "    <tr>\n",
       "      <th>8</th>\n",
       "      <td>23.111111</td>\n",
       "      <td>131.081235</td>\n",
       "    </tr>\n",
       "    <tr>\n",
       "      <th>9</th>\n",
       "      <td>26.000000</td>\n",
       "      <td>115.128205</td>\n",
       "    </tr>\n",
       "    <tr>\n",
       "      <th>10</th>\n",
       "      <td>25.454545</td>\n",
       "      <td>139.745424</td>\n",
       "    </tr>\n",
       "    <tr>\n",
       "      <th>11</th>\n",
       "      <td>NaN</td>\n",
       "      <td>NaN</td>\n",
       "    </tr>\n",
       "    <tr>\n",
       "      <th>12</th>\n",
       "      <td>46.153846</td>\n",
       "      <td>78.816111</td>\n",
       "    </tr>\n",
       "    <tr>\n",
       "      <th>13</th>\n",
       "      <td>45.000000</td>\n",
       "      <td>120.000000</td>\n",
       "    </tr>\n",
       "    <tr>\n",
       "      <th>14</th>\n",
       "      <td>28.000000</td>\n",
       "      <td>170.178571</td>\n",
       "    </tr>\n",
       "    <tr>\n",
       "      <th>15</th>\n",
       "      <td>20.000000</td>\n",
       "      <td>275.000000</td>\n",
       "    </tr>\n",
       "    <tr>\n",
       "      <th>16</th>\n",
       "      <td>24.705882</td>\n",
       "      <td>344.047619</td>\n",
       "    </tr>\n",
       "  </tbody>\n",
       "</table>\n",
       "</div>"
      ],
      "text/plain": [
       "    Avg. Room Size  Avg. Price\n",
       "0              NaN         NaN\n",
       "1        23.000000   56.100499\n",
       "2        17.333333  117.485689\n",
       "3        27.000000   79.013889\n",
       "4        31.200000   78.554725\n",
       "5        16.333333  129.307216\n",
       "6        18.571429  142.335360\n",
       "7              NaN         NaN\n",
       "8        23.111111  131.081235\n",
       "9        26.000000  115.128205\n",
       "10       25.454545  139.745424\n",
       "11             NaN         NaN\n",
       "12       46.153846   78.816111\n",
       "13       45.000000  120.000000\n",
       "14       28.000000  170.178571\n",
       "15       20.000000  275.000000\n",
       "16       24.705882  344.047619"
      ]
     },
     "execution_count": 41,
     "metadata": {},
     "output_type": "execute_result"
    }
   ],
   "source": [
    "cursor.execute('''SELECT area / rooms, AVG(price) / (area / rooms)\n",
    "               FROM apartments_table\n",
    "               GROUP BY rooms''')\n",
    "\n",
    "df_avg = pd.DataFrame(cursor.fetchall(), \n",
    "                  columns=['Avg. Room Size','Avg. Price'])    \n",
    "df_avg"
   ]
  },
  {
   "cell_type": "markdown",
   "id": "0cc2274f",
   "metadata": {},
   "source": [
    "## Plot histogramm of rental prices"
   ]
  },
  {
   "cell_type": "code",
   "execution_count": null,
   "id": "60146b13",
   "metadata": {},
   "outputs": [],
   "source": [
    "df.Price.plot.hist(grid=True, \n",
    "                   bins=20, \n",
    "                   rwidth=0.9,\n",
    "                   color='#607c8e')\n",
    "plt.title('Apartment price')\n",
    "plt.xlabel('Price')\n",
    "plt.ylabel('Frequency')\n",
    "plt.grid(axis='y', alpha=0.75)"
   ]
  },
  {
   "cell_type": "markdown",
   "id": "7904d668",
   "metadata": {},
   "source": [
    "## Close db connection (if open)"
   ]
  },
  {
   "cell_type": "code",
   "execution_count": null,
   "id": "1b90d3ee",
   "metadata": {},
   "outputs": [],
   "source": [
    "# Close db connection (if open)\n",
    "try:\n",
    "    if check_conn(conn):\n",
    "        conn.close()\n",
    "    else:\n",
    "        pass\n",
    "except:\n",
    "    pass\n",
    "\n",
    "# Status (True = open, False = closed)\n",
    "print(check_conn(conn))"
   ]
  },
  {
   "cell_type": "markdown",
   "id": "e847eb93",
   "metadata": {},
   "source": [
    "### Jupyter notebook --footer info-- (please always provide this at the end of each submitted notebook)"
   ]
  },
  {
   "cell_type": "code",
   "execution_count": null,
   "id": "8e706987",
   "metadata": {},
   "outputs": [],
   "source": [
    "import os\n",
    "import platform\n",
    "import socket\n",
    "from platform import python_version\n",
    "from datetime import datetime\n",
    "\n",
    "print('-----------------------------------')\n",
    "print(os.name.upper())\n",
    "print(platform.system(), '|', platform.release())\n",
    "print('Datetime:', datetime.now().strftime(\"%Y-%m-%d %H:%M:%S\"))\n",
    "print('Python Version:', python_version())\n",
    "print('-----------------------------------')"
   ]
  }
 ],
 "metadata": {
  "kernelspec": {
   "display_name": "Python 3 (ipykernel)",
   "language": "python",
   "name": "python3"
  },
  "language_info": {
   "codemirror_mode": {
    "name": "ipython",
    "version": 3
   },
   "file_extension": ".py",
   "mimetype": "text/x-python",
   "name": "python",
   "nbconvert_exporter": "python",
   "pygments_lexer": "ipython3",
   "version": "3.10.13"
  }
 },
 "nbformat": 4,
 "nbformat_minor": 5
}
